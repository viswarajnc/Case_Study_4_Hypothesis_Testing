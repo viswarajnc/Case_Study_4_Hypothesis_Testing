{
 "cells": [
  {
   "cell_type": "markdown",
   "id": "8b0b128d",
   "metadata": {},
   "source": [
    "# Case Study on Testing of Hypothesis\n",
    "# A company started to invest in digital marketing as a new way of their product promotions.For that they collected data and decided to carry out a study on it.\n",
    "\n",
    "# ● The company wishes to clarify whether there is any increase in sales after stepping into digital marketing.\n",
    "# ● The company needs to check whether there is any dependency between the features “Region” and “Manager”.\n",
    "\n",
    "# Help the company to carry out their study with the help of data provided."
   ]
  },
  {
   "cell_type": "code",
   "execution_count": null,
   "id": "51e9f3a0",
   "metadata": {},
   "outputs": [],
   "source": [
    "# Import the required libraries and load the dataset \n",
    "import pandas as pd\n",
    "import seaborn as sns\n",
    "import numpy as np\n",
    "import matplotlib.pyplot as plt\n",
    "Sales_ad_data = pd.read_csv('Sales_add.csv')"
   ]
  },
  {
   "cell_type": "markdown",
   "id": "885174ab",
   "metadata": {},
   "source": [
    "# First, analyse the data using simple python functions"
   ]
  },
  {
   "cell_type": "code",
   "execution_count": 3,
   "id": "ddbfc673",
   "metadata": {},
   "outputs": [
    {
     "data": {
      "text/plain": [
       "Index(['Month', 'Region', 'Manager', 'Sales_before_digital_add(in $)',\n",
       "       'Sales_After_digital_add(in $)'],\n",
       "      dtype='object')"
      ]
     },
     "execution_count": 3,
     "metadata": {},
     "output_type": "execute_result"
    }
   ],
   "source": [
    "#Check the column names  \n",
    "Sales_ad_data.columns"
   ]
  },
  {
   "cell_type": "code",
   "execution_count": 4,
   "id": "b1a56e8b",
   "metadata": {},
   "outputs": [
    {
     "data": {
      "text/html": [
       "<div>\n",
       "<style scoped>\n",
       "    .dataframe tbody tr th:only-of-type {\n",
       "        vertical-align: middle;\n",
       "    }\n",
       "\n",
       "    .dataframe tbody tr th {\n",
       "        vertical-align: top;\n",
       "    }\n",
       "\n",
       "    .dataframe thead th {\n",
       "        text-align: right;\n",
       "    }\n",
       "</style>\n",
       "<table border=\"1\" class=\"dataframe\">\n",
       "  <thead>\n",
       "    <tr style=\"text-align: right;\">\n",
       "      <th></th>\n",
       "      <th>Month</th>\n",
       "      <th>Region</th>\n",
       "      <th>Manager</th>\n",
       "      <th>Sales_before_digital_add(in $)</th>\n",
       "      <th>Sales_After_digital_add(in $)</th>\n",
       "    </tr>\n",
       "  </thead>\n",
       "  <tbody>\n",
       "    <tr>\n",
       "      <th>0</th>\n",
       "      <td>Month-1</td>\n",
       "      <td>Region - A</td>\n",
       "      <td>Manager - A</td>\n",
       "      <td>132921</td>\n",
       "      <td>270390</td>\n",
       "    </tr>\n",
       "    <tr>\n",
       "      <th>1</th>\n",
       "      <td>Month-2</td>\n",
       "      <td>Region - A</td>\n",
       "      <td>Manager - C</td>\n",
       "      <td>149559</td>\n",
       "      <td>223334</td>\n",
       "    </tr>\n",
       "    <tr>\n",
       "      <th>2</th>\n",
       "      <td>Month-3</td>\n",
       "      <td>Region - B</td>\n",
       "      <td>Manager - A</td>\n",
       "      <td>146278</td>\n",
       "      <td>244243</td>\n",
       "    </tr>\n",
       "    <tr>\n",
       "      <th>3</th>\n",
       "      <td>Month-4</td>\n",
       "      <td>Region - B</td>\n",
       "      <td>Manager - B</td>\n",
       "      <td>152167</td>\n",
       "      <td>231808</td>\n",
       "    </tr>\n",
       "    <tr>\n",
       "      <th>4</th>\n",
       "      <td>Month-5</td>\n",
       "      <td>Region - C</td>\n",
       "      <td>Manager - B</td>\n",
       "      <td>159525</td>\n",
       "      <td>258402</td>\n",
       "    </tr>\n",
       "  </tbody>\n",
       "</table>\n",
       "</div>"
      ],
      "text/plain": [
       "     Month      Region      Manager  Sales_before_digital_add(in $)  \\\n",
       "0  Month-1  Region - A  Manager - A                          132921   \n",
       "1  Month-2  Region - A  Manager - C                          149559   \n",
       "2  Month-3  Region - B  Manager - A                          146278   \n",
       "3  Month-4  Region - B  Manager - B                          152167   \n",
       "4  Month-5  Region - C  Manager - B                          159525   \n",
       "\n",
       "   Sales_After_digital_add(in $)  \n",
       "0                         270390  \n",
       "1                         223334  \n",
       "2                         244243  \n",
       "3                         231808  \n",
       "4                         258402  "
      ]
     },
     "execution_count": 4,
     "metadata": {},
     "output_type": "execute_result"
    }
   ],
   "source": [
    "#Check the sales data head \n",
    "Sales_ad_data.head()"
   ]
  },
  {
   "cell_type": "code",
   "execution_count": 8,
   "id": "6228a2fc",
   "metadata": {},
   "outputs": [
    {
     "data": {
      "text/plain": [
       "Month                             object\n",
       "Region                            object\n",
       "Manager                           object\n",
       "Sales_before_digital_add(in $)     int64\n",
       "Sales_After_digital_add(in $)      int64\n",
       "dtype: object"
      ]
     },
     "execution_count": 8,
     "metadata": {},
     "output_type": "execute_result"
    }
   ],
   "source": [
    "# Check the data types of each column\n",
    "Sales_ad_data.dtypes"
   ]
  },
  {
   "cell_type": "code",
   "execution_count": 9,
   "id": "23bba112",
   "metadata": {},
   "outputs": [
    {
     "data": {
      "text/plain": [
       "Month                             0\n",
       "Region                            0\n",
       "Manager                           0\n",
       "Sales_before_digital_add(in $)    0\n",
       "Sales_After_digital_add(in $)     0\n",
       "dtype: int64"
      ]
     },
     "execution_count": 9,
     "metadata": {},
     "output_type": "execute_result"
    }
   ],
   "source": [
    "# Check if any of the columns have null values \n",
    "Sales_ad_data.isna().sum()"
   ]
  },
  {
   "cell_type": "markdown",
   "id": "7e4d9e85",
   "metadata": {},
   "source": [
    "# ● The company wishes to clarify whether there is any increase in sales after stepping into digital marketing."
   ]
  },
  {
   "cell_type": "code",
   "execution_count": 11,
   "id": "ea1de170",
   "metadata": {},
   "outputs": [
    {
     "data": {
      "text/html": [
       "<div>\n",
       "<style scoped>\n",
       "    .dataframe tbody tr th:only-of-type {\n",
       "        vertical-align: middle;\n",
       "    }\n",
       "\n",
       "    .dataframe tbody tr th {\n",
       "        vertical-align: top;\n",
       "    }\n",
       "\n",
       "    .dataframe thead th {\n",
       "        text-align: right;\n",
       "    }\n",
       "</style>\n",
       "<table border=\"1\" class=\"dataframe\">\n",
       "  <thead>\n",
       "    <tr style=\"text-align: right;\">\n",
       "      <th></th>\n",
       "      <th>Sales_before_digital_add(in $)</th>\n",
       "      <th>Sales_After_digital_add(in $)</th>\n",
       "    </tr>\n",
       "  </thead>\n",
       "  <tbody>\n",
       "    <tr>\n",
       "      <th>count</th>\n",
       "      <td>22.000000</td>\n",
       "      <td>22.000000</td>\n",
       "    </tr>\n",
       "    <tr>\n",
       "      <th>mean</th>\n",
       "      <td>149239.954545</td>\n",
       "      <td>231123.727273</td>\n",
       "    </tr>\n",
       "    <tr>\n",
       "      <th>std</th>\n",
       "      <td>14844.042921</td>\n",
       "      <td>25556.777061</td>\n",
       "    </tr>\n",
       "    <tr>\n",
       "      <th>min</th>\n",
       "      <td>130263.000000</td>\n",
       "      <td>187305.000000</td>\n",
       "    </tr>\n",
       "    <tr>\n",
       "      <th>25%</th>\n",
       "      <td>138087.750000</td>\n",
       "      <td>214960.750000</td>\n",
       "    </tr>\n",
       "    <tr>\n",
       "      <th>50%</th>\n",
       "      <td>147444.000000</td>\n",
       "      <td>229986.500000</td>\n",
       "    </tr>\n",
       "    <tr>\n",
       "      <th>75%</th>\n",
       "      <td>157627.500000</td>\n",
       "      <td>250909.000000</td>\n",
       "    </tr>\n",
       "    <tr>\n",
       "      <th>max</th>\n",
       "      <td>178939.000000</td>\n",
       "      <td>276279.000000</td>\n",
       "    </tr>\n",
       "  </tbody>\n",
       "</table>\n",
       "</div>"
      ],
      "text/plain": [
       "       Sales_before_digital_add(in $)  Sales_After_digital_add(in $)\n",
       "count                       22.000000                      22.000000\n",
       "mean                    149239.954545                  231123.727273\n",
       "std                      14844.042921                   25556.777061\n",
       "min                     130263.000000                  187305.000000\n",
       "25%                     138087.750000                  214960.750000\n",
       "50%                     147444.000000                  229986.500000\n",
       "75%                     157627.500000                  250909.000000\n",
       "max                     178939.000000                  276279.000000"
      ]
     },
     "execution_count": 11,
     "metadata": {},
     "output_type": "execute_result"
    }
   ],
   "source": [
    "# Conduct descriptive analysis on numerical columns ( sales before digital add and after ad columns ) of the dataset \n",
    "Sales_ad_data.describe()"
   ]
  },
  {
   "cell_type": "markdown",
   "id": "e6a6ea46",
   "metadata": {},
   "source": [
    "# Inference 1 - We could notice that there in an increase in mean , std deviation , quartile values and max after the sales .\n",
    "# So in hindsight , we can say that there is an increase in sales after stepping into digital marketing"
   ]
  },
  {
   "cell_type": "code",
   "execution_count": 14,
   "id": "7d21abe5",
   "metadata": {},
   "outputs": [],
   "source": [
    "# Let's conduct t test on before sales and after sales column and see if there's an increase in\n",
    "# sales after digital marketing step-in\n",
    "Before_adv_sales = Sales_ad_data['Sales_before_digital_add(in $)']"
   ]
  },
  {
   "cell_type": "code",
   "execution_count": 15,
   "id": "22eabfcd",
   "metadata": {},
   "outputs": [],
   "source": [
    "After_adv_sales = Sales_ad_data['Sales_After_digital_add(in $)']"
   ]
  },
  {
   "cell_type": "code",
   "execution_count": 27,
   "id": "11dc18c1",
   "metadata": {},
   "outputs": [
    {
     "name": "stdout",
     "output_type": "stream",
     "text": [
      "P value is : 2.614368006904645e-16\n",
      "Test statistic is: 12.995084451110877\n",
      "Null hypothesis fails. It means that there is increase in sales after the digital ads\n"
     ]
    }
   ],
   "source": [
    "# The null hypothesis  H0 = \" No increase in sales after the digital ads\"\n",
    "# The alternative hypothesis  H1 = \" There is increase in sales after digital ads \"\n",
    "\n",
    "from scipy import stats\n",
    "ttest,pvalue=stats.ttest_ind(After_adv_sales,Before_adv_sales)\n",
    "print(\"P value is :\",pvalue)\n",
    "print(\"Test statistic is:\",ttest)\n",
    "\n",
    "if pvalue< 0.05:\n",
    "    print ('Null hypothesis fails. It means that there is increase in sales after the digital ads')\n",
    "else:\n",
    "    print(\"failed to reject null hypothesis\")"
   ]
  },
  {
   "cell_type": "markdown",
   "id": "bb2de6cd",
   "metadata": {},
   "source": [
    "# Inference 2 - The test clarifies us that there is a clear increase in sales after stepping into digital marketing"
   ]
  },
  {
   "cell_type": "code",
   "execution_count": null,
   "id": "0165e864",
   "metadata": {},
   "outputs": [],
   "source": []
  },
  {
   "cell_type": "markdown",
   "id": "233fe426",
   "metadata": {},
   "source": [
    "# ● The company needs to check whether there is any dependency between the features “Region” and “Manager”."
   ]
  },
  {
   "cell_type": "markdown",
   "id": "739d5346",
   "metadata": {},
   "source": [
    "# Stating the Hypothesis:\n",
    "\n",
    "# Null Hypothesis H0: The features 'Region' and ' Manager' does not have any dependency.\n",
    "\n",
    "# Alternative Hypothesis H1:The features 'Region' and 'Manager' are dependent."
   ]
  },
  {
   "cell_type": "code",
   "execution_count": 30,
   "id": "eff196b3",
   "metadata": {},
   "outputs": [
    {
     "data": {
      "text/html": [
       "<div>\n",
       "<style scoped>\n",
       "    .dataframe tbody tr th:only-of-type {\n",
       "        vertical-align: middle;\n",
       "    }\n",
       "\n",
       "    .dataframe tbody tr th {\n",
       "        vertical-align: top;\n",
       "    }\n",
       "\n",
       "    .dataframe thead th {\n",
       "        text-align: right;\n",
       "    }\n",
       "</style>\n",
       "<table border=\"1\" class=\"dataframe\">\n",
       "  <thead>\n",
       "    <tr style=\"text-align: right;\">\n",
       "      <th>Manager</th>\n",
       "      <th>Manager - A</th>\n",
       "      <th>Manager - B</th>\n",
       "      <th>Manager - C</th>\n",
       "    </tr>\n",
       "    <tr>\n",
       "      <th>Region</th>\n",
       "      <th></th>\n",
       "      <th></th>\n",
       "      <th></th>\n",
       "    </tr>\n",
       "  </thead>\n",
       "  <tbody>\n",
       "    <tr>\n",
       "      <th>Region - A</th>\n",
       "      <td>4</td>\n",
       "      <td>3</td>\n",
       "      <td>3</td>\n",
       "    </tr>\n",
       "    <tr>\n",
       "      <th>Region - B</th>\n",
       "      <td>4</td>\n",
       "      <td>1</td>\n",
       "      <td>2</td>\n",
       "    </tr>\n",
       "    <tr>\n",
       "      <th>Region - C</th>\n",
       "      <td>1</td>\n",
       "      <td>3</td>\n",
       "      <td>1</td>\n",
       "    </tr>\n",
       "  </tbody>\n",
       "</table>\n",
       "</div>"
      ],
      "text/plain": [
       "Manager     Manager - A  Manager - B  Manager - C\n",
       "Region                                           \n",
       "Region - A            4            3            3\n",
       "Region - B            4            1            2\n",
       "Region - C            1            3            1"
      ]
     },
     "execution_count": 30,
     "metadata": {},
     "output_type": "execute_result"
    }
   ],
   "source": [
    "Region_Manager_data = Sales_ad_data.groupby('Region')['Manager'].value_counts().unstack()\n",
    "Region_Manager_data"
   ]
  },
  {
   "cell_type": "code",
   "execution_count": 31,
   "id": "52f30f5d",
   "metadata": {},
   "outputs": [],
   "source": [
    "# Let's use the chi square test to find the inter-dependency of 'Region' and 'Manager'\n",
    "#chi2_rm: The test statistic used \n",
    "#p_rm: The p-value of the test\n",
    "#dof_rm: Degrees of freedom\n",
    "#expected_rm: The expected frequencies, based on the marginal sums of the table\n",
    "\n",
    "chi2_rm,p_rm,dof_rm,expected_rm = stats.chi2_contingency(Region_Manager_data)"
   ]
  },
  {
   "cell_type": "code",
   "execution_count": 32,
   "id": "907362c1",
   "metadata": {},
   "outputs": [
    {
     "data": {
      "text/plain": [
       "3.050566893424036"
      ]
     },
     "execution_count": 32,
     "metadata": {},
     "output_type": "execute_result"
    }
   ],
   "source": [
    "chi2_rm"
   ]
  },
  {
   "cell_type": "code",
   "execution_count": 33,
   "id": "d4379ea4",
   "metadata": {},
   "outputs": [
    {
     "data": {
      "text/plain": [
       "0.5493991051158094"
      ]
     },
     "execution_count": 33,
     "metadata": {},
     "output_type": "execute_result"
    }
   ],
   "source": [
    "p_rm"
   ]
  },
  {
   "cell_type": "code",
   "execution_count": 34,
   "id": "5e6d9413",
   "metadata": {},
   "outputs": [
    {
     "data": {
      "text/plain": [
       "4"
      ]
     },
     "execution_count": 34,
     "metadata": {},
     "output_type": "execute_result"
    }
   ],
   "source": [
    "dof_rm"
   ]
  },
  {
   "cell_type": "code",
   "execution_count": 35,
   "id": "40bc977f",
   "metadata": {},
   "outputs": [
    {
     "data": {
      "text/plain": [
       "array([[4.09090909, 3.18181818, 2.72727273],\n",
       "       [2.86363636, 2.22727273, 1.90909091],\n",
       "       [2.04545455, 1.59090909, 1.36363636]])"
      ]
     },
     "execution_count": 35,
     "metadata": {},
     "output_type": "execute_result"
    }
   ],
   "source": [
    "expected_rm"
   ]
  },
  {
   "cell_type": "code",
   "execution_count": 36,
   "id": "e3ba784e",
   "metadata": {},
   "outputs": [
    {
     "data": {
      "text/plain": [
       "9.487729036781154"
      ]
     },
     "execution_count": 36,
     "metadata": {},
     "output_type": "execute_result"
    }
   ],
   "source": [
    "chi2_crit_value = stats.chi2.ppf(1-0.05,4)\n",
    "chi2_crit_value"
   ]
  },
  {
   "cell_type": "code",
   "execution_count": 37,
   "id": "b81210fb",
   "metadata": {},
   "outputs": [
    {
     "name": "stdout",
     "output_type": "stream",
     "text": [
      "Alternative hypothesis Rejected\n"
     ]
    }
   ],
   "source": [
    "if chi2_rm > chi2_crit_value and p < 0.05 :\n",
    "    print(\"Null hypothesis Rejected.\")\n",
    "else:\n",
    "    print(\"Alternative hypothesis Rejected\")"
   ]
  },
  {
   "cell_type": "markdown",
   "id": "300f6a7f",
   "metadata": {},
   "source": [
    "# Here Chi square results directs us to reject the alternative hypothesis which means that there is no dependency between 'Region' and 'manager'"
   ]
  },
  {
   "cell_type": "code",
   "execution_count": null,
   "id": "51281154",
   "metadata": {},
   "outputs": [],
   "source": [
    "# Submitted by viswaraj Chandran"
   ]
  }
 ],
 "metadata": {
  "kernelspec": {
   "display_name": "Python 3",
   "language": "python",
   "name": "python3"
  },
  "language_info": {
   "codemirror_mode": {
    "name": "ipython",
    "version": 3
   },
   "file_extension": ".py",
   "mimetype": "text/x-python",
   "name": "python",
   "nbconvert_exporter": "python",
   "pygments_lexer": "ipython3",
   "version": "3.8.8"
  }
 },
 "nbformat": 4,
 "nbformat_minor": 5
}
